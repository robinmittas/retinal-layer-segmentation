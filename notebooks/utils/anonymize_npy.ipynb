{
 "cells": [
  {
   "cell_type": "markdown",
   "metadata": {},
   "source": [
    "### Anonymization\n",
    "To run this notebook you need to have two directories: One containing 2D images of healthy individuals (with name/ family name in file name), and an other one containing 2D images of IRD patients (with name/ family name in file name). This notebook then iterates through files and replaces the patient information"
   ]
  },
  {
   "cell_type": "code",
   "execution_count": 1,
   "metadata": {},
   "outputs": [],
   "source": [
    "%load_ext autoreload\n",
    "%autoreload 2"
   ]
  },
  {
   "cell_type": "code",
   "execution_count": 2,
   "metadata": {},
   "outputs": [],
   "source": [
    "import os\n",
    "import sys\n",
    "sys.path.append(\"../utils/\")\n",
    "from helper_functions import rename_npy_files"
   ]
  },
  {
   "cell_type": "code",
   "execution_count": 5,
   "metadata": {},
   "outputs": [],
   "source": [
    "# Files are stored within this directory\n",
    "directory = \"C:/\" ## Replace by \"C:/xyz/xyz/dir_to_healthy_npy_files\n",
    "x_path = []\n",
    "y_path = []\n",
    "\n",
    "x_y_map = {}\n",
    "\n",
    "for file in sorted(os.listdir(directory)):\n",
    "    filename = os.fsdecode(file)\n",
    "    if filename.endswith(\".npy\") and \"Final\" not in filename: \n",
    "        idx_x = filename.split(\".npy\")[0].split(\"_\")[-1]\n",
    "        x_y_map[str(directory) + \"/\" +filename] = str(directory) + \"/\" + filename.split(\".\")[0] + f\"_Surfaces_Retina-JEI-Final_{idx_x}.npy\""
   ]
  },
  {
   "cell_type": "code",
   "execution_count": null,
   "metadata": {},
   "outputs": [],
   "source": [
    "x_y_map_updated, replace_dict = rename_npy_files(x_y_map, sep=\"/\", rename_file=True)"
   ]
  },
  {
   "cell_type": "code",
   "execution_count": 7,
   "metadata": {},
   "outputs": [],
   "source": [
    "## same for ird\n",
    "# Files are stored within this directory\n",
    "directory = \"C:/\" ## Replace by \"C:/xyz/xyz/dir_to_diseased_npy_files\n",
    "\n",
    "x_path = []\n",
    "y_path = []\n",
    "\n",
    "x_y_map = {}\n",
    "\n",
    "for file in sorted(os.listdir(directory)):\n",
    "    filename = os.fsdecode(file)\n",
    "    if filename.endswith(\".npy\") and \"Final\" not in filename: \n",
    "        idx_x = filename.split(\".npy\")[0].split(\"_\")[-1]\n",
    "        x_y_map[str(directory) + \"/\" +filename] = str(directory) + \"/\" + filename.split(\".\")[0] + f\"_Surfaces_Retina-JEI-Final_{idx_x}.npy\""
   ]
  },
  {
   "cell_type": "code",
   "execution_count": 9,
   "metadata": {},
   "outputs": [],
   "source": [
    "x_y_map_updated, replace_dict = rename_npy_files(x_y_map, sep=\"/\", rename_file=True)"
   ]
  }
 ],
 "metadata": {
  "kernelspec": {
   "display_name": "Python 3",
   "language": "python",
   "name": "python3"
  },
  "language_info": {
   "codemirror_mode": {
    "name": "ipython",
    "version": 3
   },
   "file_extension": ".py",
   "mimetype": "text/x-python",
   "name": "python",
   "nbconvert_exporter": "python",
   "pygments_lexer": "ipython3",
   "version": "3.9.0"
  }
 },
 "nbformat": 4,
 "nbformat_minor": 2
}
